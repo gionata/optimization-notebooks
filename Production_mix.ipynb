{
  "cells": [
    {
      "cell_type": "markdown",
      "metadata": {
        "id": "view-in-github",
        "colab_type": "text"
      },
      "source": [
        "<a href=\"https://colab.research.google.com/github/gionata/optimization-notebooks/blob/main/Production_mix.ipynb\" target=\"_parent\"><img src=\"https://colab.research.google.com/assets/colab-badge.svg\" alt=\"Open In Colab\"/></a>"
      ]
    },
    {
      "cell_type": "code",
      "execution_count": 10,
      "metadata": {
        "id": "zeg-Dz0REDjD"
      },
      "outputs": [],
      "source": [
        "# Install dependencies\n",
        "%pip install -q amplpy"
      ]
    },
    {
      "cell_type": "code",
      "execution_count": 12,
      "metadata": {
        "colab": {
          "base_uri": "https://localhost:8080/"
        },
        "id": "TErlEKtJEls8",
        "outputId": "6b5eded4-1238-4c09-9025-bbb8ac411c9a"
      },
      "outputs": [
        {
          "output_type": "stream",
          "name": "stdout",
          "text": [
            "Licensed to AMPL Community Edition License for <gionata.massi@gmail.com>.\n"
          ]
        }
      ],
      "source": [
        "from amplpy import AMPL, ampl_notebook\n",
        "from google.colab import userdata # for accessing colab secrets\n",
        "\n",
        "ampl = ampl_notebook(\n",
        "    modules=[\"cbc\"],\n",
        "    license_uuid=userdata.get('license'),  # license from \"secret\"\n",
        ")   # instantiate AMPL object and register magics"
      ]
    },
    {
      "cell_type": "code",
      "execution_count": null,
      "metadata": {
        "colab": {
          "base_uri": "https://localhost:8080/"
        },
        "id": "LGE9LYN8FHIz",
        "outputId": "1f924d0c-b640-4ef6-bf38-34ab41ed10d9"
      },
      "outputs": [
        {
          "name": "stdout",
          "output_type": "stream",
          "text": [
            "Writing product_mix.mod\n"
          ]
        }
      ],
      "source": [
        "%%writefile product_mix.mod\n",
        "# file: product_mix.mod\n",
        "#\n",
        "# Product mix problem\n",
        "#\n",
        "# Maximize profit subject to less than or equal to constraints\n",
        "\n",
        "# Sets\n",
        "set Products;\n",
        "set Resources;\n",
        "\n",
        "# Decision variables\n",
        "var x {j in Products} >= 0;\n",
        "\n",
        "# Parameters\n",
        "param profit {j in Products} >= 0;\n",
        "param availability {i in Resources} >= 0;\n",
        "param consumption {i in Resources, j in Products} >= 0;\n",
        "\n",
        "# Objective function\n",
        "maximize total_profit: sum {j in Products} profit[j]*x[j];\n",
        "\n",
        "# Constraints\n",
        "s.t.   usage {i in Resources}:\n",
        "\tsum {j in Products} consumption[i, j]*x[j]\n",
        "\t\t<=  availability[i];\n"
      ]
    },
    {
      "cell_type": "code",
      "execution_count": null,
      "metadata": {
        "colab": {
          "base_uri": "https://localhost:8080/"
        },
        "id": "h_Rm1fhBHutx",
        "outputId": "1dcc2013-4f8f-4748-fe0c-f83b61f714d6"
      },
      "outputs": [
        {
          "name": "stdout",
          "output_type": "stream",
          "text": [
            "Writing product_mix.dat\n"
          ]
        }
      ],
      "source": [
        "%%writefile product_mix.dat\n",
        "# file: product_mix.dat\n",
        "\n",
        "set Products := prod_1 prod_2;\n",
        "set Resources := raw_material labour demand;\n",
        "param profit := prod_1 120 prod_2 40;\n",
        "param availability :=\n",
        "\traw_material 2200\n",
        "\tlabour        320\n",
        "\tdemand        100;\n",
        "param consumption: prod_1 prod_2 :=\n",
        "\traw_material 40 20\n",
        "\tlabour        8  2\n",
        "\tdemand        1  1;\n"
      ]
    },
    {
      "cell_type": "code",
      "execution_count": null,
      "metadata": {
        "colab": {
          "base_uri": "https://localhost:8080/"
        },
        "id": "vtI6CD_uH0Z7",
        "outputId": "9369b8c6-7b66-48d3-fab8-025f5c19f676"
      },
      "outputs": [
        {
          "name": "stdout",
          "output_type": "stream",
          "text": [
            "\n",
            "parameters:   availability   consumption   profit\n",
            "\n",
            "sets:   Products   Resources\n",
            "\n",
            "variable:   x\n",
            "\n",
            "constraint:   usage\n",
            "\n",
            "objective:   total_profit\n",
            "maximize total_profit:\n",
            "\t120*x['prod_1'] + 40*x['prod_2'];\n",
            "\n",
            "subject to usage['raw_material']:\n",
            "\t40*x['prod_1'] + 20*x['prod_2'] <= 2200;\n",
            "\n",
            "subject to usage['labour']:\n",
            "\t8*x['prod_1'] + 2*x['prod_2'] <= 320;\n",
            "\n",
            "subject to usage['demand']:\n",
            "\tx['prod_1'] + x['prod_2'] <= 100;\n",
            "\n",
            "cbc 2.10.12: \b\b\b\b\b\b\b\b\b\b\b\b\bcbc 2.10.12: optimal solution; objective 5400\n",
            "0 simplex iterations\n",
            "total_profit = 5400\n",
            "\n",
            "x [*] :=\n",
            "prod_1  25\n",
            "prod_2  60\n",
            ";\n",
            "\n",
            "usage [*] :=\n",
            "      demand   0\n",
            "      labour  10\n",
            "raw_material   1\n",
            ";\n",
            "\n"
          ]
        }
      ],
      "source": [
        "%%ampl_eval\n",
        "# file: product_mix.run\n",
        "\n",
        "model product_mix.mod;\n",
        "data product_mix.dat;\n",
        "show;\n",
        "expand;\n",
        "option solver cbc;\n",
        "solve;\n",
        "display total_profit;\n",
        "display x;\n",
        "display usage;\n"
      ]
    }
  ],
  "metadata": {
    "colab": {
      "provenance": [],
      "authorship_tag": "ABX9TyM+MEIl4z+Yz4oLpLj74Mga",
      "include_colab_link": true
    },
    "kernelspec": {
      "display_name": "Python 3",
      "name": "python3"
    },
    "language_info": {
      "name": "python"
    }
  },
  "nbformat": 4,
  "nbformat_minor": 0
}