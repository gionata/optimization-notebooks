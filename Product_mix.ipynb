{
 "cells": [
  {
   "cell_type": "code",
   "execution_count": 1,
   "metadata": {
    "id": "zeg-Dz0REDjD"
   },
   "outputs": [
    {
     "name": "stdout",
     "output_type": "stream",
     "text": [
      "\u001b[1;31merror\u001b[0m: \u001b[1mexternally-managed-environment\u001b[0m\n",
      "\n",
      "\u001b[31m×\u001b[0m This environment is externally managed\n",
      "\u001b[31m╰─>\u001b[0m To install Python packages system-wide, try 'pacman -S\n",
      "\u001b[31m   \u001b[0m python-xyz', where xyz is the package you are trying to\n",
      "\u001b[31m   \u001b[0m install.\n",
      "\u001b[31m   \u001b[0m \n",
      "\u001b[31m   \u001b[0m If you wish to install a non-Arch-packaged Python package,\n",
      "\u001b[31m   \u001b[0m create a virtual environment using 'python -m venv path/to/venv'.\n",
      "\u001b[31m   \u001b[0m Then use path/to/venv/bin/python and path/to/venv/bin/pip.\n",
      "\u001b[31m   \u001b[0m \n",
      "\u001b[31m   \u001b[0m If you wish to install a non-Arch packaged Python application,\n",
      "\u001b[31m   \u001b[0m it may be easiest to use 'pipx install xyz', which will manage a\n",
      "\u001b[31m   \u001b[0m virtual environment for you. Make sure you have python-pipx\n",
      "\u001b[31m   \u001b[0m installed via pacman.\n",
      "\n",
      "\u001b[1;35mnote\u001b[0m: If you believe this is a mistake, please contact your Python installation or OS distribution provider. You can override this, at the risk of breaking your Python installation or OS, by passing --break-system-packages.\n",
      "\u001b[1;36mhint\u001b[0m: See PEP 668 for the detailed specification.\n",
      "Note: you may need to restart the kernel to use updated packages.\n"
     ]
    }
   ],
   "source": [
    "# Install dependencies\n",
    "%pip install -q amplpy"
   ]
  },
  {
   "cell_type": "code",
   "execution_count": 2,
   "metadata": {
    "colab": {
     "base_uri": "https://localhost:8080/"
    },
    "id": "TErlEKtJEls8",
    "outputId": "81ffe875-17ad-48e5-fe68-956379950aa8"
   },
   "outputs": [
    {
     "ename": "ModuleNotFoundError",
     "evalue": "No module named 'google'",
     "output_type": "error",
     "traceback": [
      "\u001b[31m---------------------------------------------------------------------------\u001b[39m",
      "\u001b[31mModuleNotFoundError\u001b[39m                       Traceback (most recent call last)",
      "\u001b[36mCell\u001b[39m\u001b[36m \u001b[39m\u001b[32mIn[2]\u001b[39m\u001b[32m, line 2\u001b[39m\n\u001b[32m      1\u001b[39m \u001b[38;5;28;01mfrom\u001b[39;00m\u001b[38;5;250m \u001b[39m\u001b[34;01mamplpy\u001b[39;00m\u001b[38;5;250m \u001b[39m\u001b[38;5;28;01mimport\u001b[39;00m AMPL, ampl_notebook\n\u001b[32m----> \u001b[39m\u001b[32m2\u001b[39m \u001b[38;5;28;01mfrom\u001b[39;00m\u001b[38;5;250m \u001b[39m\u001b[34;01mgoogle\u001b[39;00m\u001b[34;01m.\u001b[39;00m\u001b[34;01mcolab\u001b[39;00m\u001b[38;5;250m \u001b[39m\u001b[38;5;28;01mimport\u001b[39;00m userdata \u001b[38;5;66;03m# for accessing colab secrets\u001b[39;00m\n\u001b[32m      4\u001b[39m ampl = ampl_notebook(\n\u001b[32m      5\u001b[39m     modules=[\u001b[33m\"\u001b[39m\u001b[33mcbc\u001b[39m\u001b[33m\"\u001b[39m],\n\u001b[32m      6\u001b[39m     license_uuid=userdata.get(\u001b[33m'\u001b[39m\u001b[33mlicense\u001b[39m\u001b[33m'\u001b[39m),  \u001b[38;5;66;03m# license from \"secret\"\u001b[39;00m\n\u001b[32m      7\u001b[39m )   \u001b[38;5;66;03m# instantiate AMPL object and register magics\u001b[39;00m\n",
      "\u001b[31mModuleNotFoundError\u001b[39m: No module named 'google'"
     ]
    }
   ],
   "source": [
    "from amplpy import AMPL, ampl_notebook\n",
    "from google.colab import userdata # for accessing colab secrets\n",
    "\n",
    "ampl = ampl_notebook(\n",
    "    modules=[\"cbc\"],\n",
    "    license_uuid=userdata.get('license'),  # license from \"secret\"\n",
    ")   # instantiate AMPL object and register magics"
   ]
  },
  {
   "cell_type": "code",
   "execution_count": null,
   "metadata": {
    "colab": {
     "base_uri": "https://localhost:8080/"
    },
    "id": "LGE9LYN8FHIz",
    "outputId": "124e5e1e-4e3e-4e04-d460-b4b5f366d3d8"
   },
   "outputs": [],
   "source": [
    "%%writefile product_mix.mod\n",
    "# file: product_mix.mod\n",
    "#\n",
    "# Product mix problem\n",
    "#\n",
    "# Maximize profit subject to less than or equal to constraints\n",
    "\n",
    "# Sets\n",
    "set Products;\n",
    "set Resources;\n",
    "\n",
    "# Decision variables\n",
    "var x {j in Products} >= 0;\n",
    "\n",
    "# Parameters\n",
    "param profit {j in Products} >= 0;\n",
    "param availability {i in Resources} >= 0;\n",
    "param consumption {i in Resources, j in Products} >= 0;\n",
    "\n",
    "# Objective function\n",
    "maximize total_profit: sum {j in Products} profit[j]*x[j];\n",
    "\n",
    "# Constraints\n",
    "s.t.   usage {i in Resources}:\n",
    "\tsum {j in Products} consumption[i, j]*x[j]\n",
    "\t\t<=  availability[i];\n"
   ]
  },
  {
   "cell_type": "code",
   "execution_count": null,
   "metadata": {
    "colab": {
     "base_uri": "https://localhost:8080/"
    },
    "id": "h_Rm1fhBHutx",
    "outputId": "de2dd02f-d0f4-49ff-9b7d-2fa38435baa0"
   },
   "outputs": [],
   "source": [
    "%%writefile product_mix.dat\n",
    "# file: product_mix.dat\n",
    "\n",
    "set Products := prod_1 prod_2;\n",
    "set Resources := raw_material labour demand;\n",
    "param profit :=\n",
    "    prod_1 120\n",
    "    prod_2 40;\n",
    "param availability :=\n",
    "\traw_material 2200\n",
    "\tlabour        320\n",
    "\tdemand        100;\n",
    "param consumption: prod_1 prod_2 :=\n",
    "\traw_material 40 20\n",
    "\tlabour        8  2\n",
    "\tdemand        1  1;\n"
   ]
  },
  {
   "cell_type": "code",
   "execution_count": null,
   "metadata": {
    "colab": {
     "base_uri": "https://localhost:8080/"
    },
    "id": "vtI6CD_uH0Z7",
    "outputId": "16087949-32dc-4583-96fe-5c071f968afa"
   },
   "outputs": [],
   "source": [
    "%%ampl_eval\n",
    "# file: product_mix.run\n",
    "\n",
    "model product_mix.mod;\n",
    "data product_mix.dat;\n",
    "show;\n",
    "expand;\n",
    "option solver cbc;\n",
    "solve;\n",
    "display total_profit;\n",
    "display x;\n",
    "display usage;\n"
   ]
  }
 ],
 "metadata": {
  "colab": {
   "provenance": []
  },
  "kernelspec": {
   "display_name": "Python 3 (ipykernel)",
   "language": "python",
   "name": "python3"
  },
  "language_info": {
   "codemirror_mode": {
    "name": "ipython",
    "version": 3
   },
   "file_extension": ".py",
   "mimetype": "text/x-python",
   "name": "python",
   "nbconvert_exporter": "python",
   "pygments_lexer": "ipython3",
   "version": "3.13.2"
  }
 },
 "nbformat": 4,
 "nbformat_minor": 4
}
