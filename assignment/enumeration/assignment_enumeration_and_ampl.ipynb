{
  "cells": [
    {
      "cell_type": "markdown",
      "id": "84d1fad9-89ff-4089-a57f-fe3e92fceb33",
      "metadata": {
        "id": "84d1fad9-89ff-4089-a57f-fe3e92fceb33"
      },
      "source": [
        "# Assignment problem - Enumeration\n",
        "\n",
        "\n",
        "## The problem\n",
        "\n",
        "There are $m$ workers and an equal number of tasks.\n",
        "Each worker can perform any task, with a cost that can vary depending on the worker-task assignment.\n",
        "We want to carry out all the task, assigning only one task to each worker and one task to each worker,\n",
        "such that the total cost of the assignment is minimised.\n",
        "The total cost of assigning all tasks is equal to the sum of the costs of assignment for each worker.\n",
        "\n",
        "## The instance\n",
        "\n",
        "The number of tasks and workers: $m$\n",
        "  \n",
        "The cost to assign to the $i^{\\text{th}}$ worker the $j^{\\text{th}}$ task\n",
        "$c_{ij},\\text{ for all }\\ i=1,2,\\ldots,m\\text{ and }j=1,2,\\ldots,m$\n",
        "\n",
        "Consider the following instance\n",
        "  \n",
        "  Number of workers and tasks: $m \\gets 4$\n",
        "  \n",
        "  Assignment costs:\n",
        "  \n",
        "  | Worker | Task 1 | Task 2 | Task 3 | Task 4 |\n",
        "  |--------|--------|--------|--------|--------|\n",
        "  |    1   |    14  |    5   |    8   |    7   |\n",
        "  |    2   |     2  |   12   |    6   |    5   |\n",
        "  |    3   |     7  |    8   |    3   |    9   |\n",
        "  |    4   |     2  |    4   |    6   |   10   |\n",
        "  "
      ]
    },
    {
      "cell_type": "code",
      "execution_count": 43,
      "id": "106f9e17-9d5d-4003-8df8-00459ecc33fd",
      "metadata": {
        "colab": {
          "base_uri": "https://localhost:8080/"
        },
        "id": "106f9e17-9d5d-4003-8df8-00459ecc33fd",
        "outputId": "24e3111f-9c34-45d1-c1e6-6a56fed559cb"
      },
      "outputs": [
        {
          "output_type": "stream",
          "name": "stdout",
          "text": [
            "Exploring the solution number  1: Cost of (0, 1, 2, 3) is 39 <-- New minimum (incumbent solution)\n",
            "Exploring the solution number  2: Cost of (0, 1, 3, 2) is 41\n",
            "Exploring the solution number  3: Cost of (0, 2, 1, 3) is 38 <-- New minimum (incumbent solution)\n",
            "Exploring the solution number  4: Cost of (0, 2, 3, 1) is 33 <-- New minimum (incumbent solution)\n",
            "Exploring the solution number  5: Cost of (0, 3, 1, 2) is 33\n",
            "Exploring the solution number  6: Cost of (0, 3, 2, 1) is 26 <-- New minimum (incumbent solution)\n",
            "Exploring the solution number  7: Cost of (1, 0, 2, 3) is 20 <-- New minimum (incumbent solution)\n",
            "Exploring the solution number  8: Cost of (1, 0, 3, 2) is 22\n",
            "Exploring the solution number  9: Cost of (1, 2, 0, 3) is 28\n",
            "Exploring the solution number 10: Cost of (1, 2, 3, 0) is 22\n",
            "Exploring the solution number 11: Cost of (1, 3, 0, 2) is 23\n",
            "Exploring the solution number 12: Cost of (1, 3, 2, 0) is 15 <-- New minimum (incumbent solution)\n",
            "Exploring the solution number 13: Cost of (2, 0, 1, 3) is 28\n",
            "Exploring the solution number 14: Cost of (2, 0, 3, 1) is 23\n",
            "Exploring the solution number 15: Cost of (2, 1, 0, 3) is 37\n",
            "Exploring the solution number 16: Cost of (2, 1, 3, 0) is 31\n",
            "Exploring the solution number 17: Cost of (2, 3, 0, 1) is 24\n",
            "Exploring the solution number 18: Cost of (2, 3, 1, 0) is 23\n",
            "Exploring the solution number 19: Cost of (3, 0, 1, 2) is 23\n",
            "Exploring the solution number 20: Cost of (3, 0, 2, 1) is 16\n",
            "Exploring the solution number 21: Cost of (3, 1, 0, 2) is 32\n",
            "Exploring the solution number 22: Cost of (3, 1, 2, 0) is 24\n",
            "Exploring the solution number 23: Cost of (3, 2, 0, 1) is 24\n",
            "Exploring the solution number 24: Cost of (3, 2, 1, 0) is 23\n",
            "\n",
            "Minimum total cost: 15\n",
            "Optimal solution:\n",
            "Worker 1 is assigned to Task 2\n",
            "Worker 2 is assigned to Task 4\n",
            "Worker 3 is assigned to Task 3\n",
            "Worker 4 is assigned to Task 1\n"
          ]
        }
      ],
      "source": [
        "# Assignment problem: Finding the optimal assignment of workers to jobs with minimum total cost.\n",
        "\n",
        "import itertools\n",
        "\n",
        "# Instance definition:\n",
        "# m: Number of workers (and jobs, as it's a square assignment problem).\n",
        "# c: Cost matrix where c[i][j] represents the cost of assigning worker i to job j.\n",
        "m = 4\n",
        "c = [[14,  5,  8,  7],\n",
        "     [ 2, 12,  6,  5],\n",
        "     [ 7,  8,  3,  9],\n",
        "     [ 2,  4,  6, 10]]\n",
        "\n",
        "def total_cost(solution):\n",
        "    \"\"\"\n",
        "    Calculates the total cost of a given assignment solution.\n",
        "\n",
        "    Args:\n",
        "        solution: A list representing the assignment. solution[i] indicates the job assigned to worker i.\n",
        "                  For example, [1, 0, 3, 2] means worker 0 is assigned job 1, worker 1 is assigned job 0, etc.\n",
        "\n",
        "    Returns:\n",
        "        The total cost of the assignment.\n",
        "    \"\"\"\n",
        "    total = 0  # Initialize the accumulator for the total cost.\n",
        "    for worker_index, job_index in enumerate(solution):\n",
        "        # worker_index: Index of the worker (0 to m-1).\n",
        "        # job_index: Index of the job assigned to the worker.\n",
        "        total += c[worker_index][job_index]  # Add the cost of this assignment to the total.\n",
        "    return total\n",
        "\n",
        "# Generate all possible assignment solutions:\n",
        "# feasible_solutions: A list of all permutations of job assignments. Each permutation represents a possible solution.\n",
        "# itertools.permutations(range(0, m)) generates all possible ways to assign jobs (0 to m-1) to workers.\n",
        "feasible_solutions = list(itertools.permutations(range(0, m)))\n",
        "\n",
        "def find_min_total_cost(feasible_solutions, total_cost):\n",
        "    \"\"\"\n",
        "    Finds the minimum total cost and the corresponding assignment solution by enumerating all feasible solutions.\n",
        "\n",
        "    Args:\n",
        "        feasible_solutions: A list of all possible assignment solutions (permutations).\n",
        "        total_cost: A function that calculates the total cost of a given solution.\n",
        "\n",
        "    Returns:\n",
        "        A tuple containing:\n",
        "            - The minimum total cost found.\n",
        "            - The assignment solution that achieves the minimum cost.\n",
        "    \"\"\"\n",
        "    min_cost = float('inf')  # Initialize the minimum cost to infinity.\n",
        "    min_solution = None  # Initialize the minimum solution to None.\n",
        "\n",
        "    # Iterate through all feasible solutions:\n",
        "    for index, solution in enumerate(feasible_solutions):\n",
        "        cost = total_cost(solution)  # Calculate the cost of the current solution.\n",
        "        str = f\"Exploring the solution number {(index+1):2}: Cost of {solution} is {cost}\"\n",
        "\n",
        "        # Check if the current solution has a lower cost than the current minimum:\n",
        "        if cost < min_cost:\n",
        "            min_cost = cost  # Update the minimum cost.\n",
        "            min_solution = solution  # Update the minimum solution.\n",
        "            str += \" <-- New minimum (incumbent solution)\"\n",
        "\n",
        "        print(str)\n",
        "\n",
        "    return min_cost, min_solution  # Return the minimum cost and the corresponding solution.\n",
        "\n",
        "# Find and print the optimal solution:\n",
        "min_cost, optimal_solution = find_min_total_cost(feasible_solutions, total_cost)\n",
        "print(f\"\\nMinimum total cost: {min_cost}\")\n",
        "print(f\"Optimal solution:\")\n",
        "for worker_index, job_index in enumerate(optimal_solution):\n",
        "    print(f\"Worker {worker_index + 1} is assigned to Task {job_index + 1}\")"
      ]
    },
    {
      "cell_type": "markdown",
      "source": [
        " ## AMPL code\n"
      ],
      "metadata": {
        "id": "iC5E48ChCsbO"
      },
      "id": "iC5E48ChCsbO"
    },
    {
      "cell_type": "code",
      "source": [
        "%pip install -q amplpy\n",
        "from amplpy import AMPL, ampl_notebook\n",
        "ampl = ampl_notebook(\n",
        "    license_uuid=\"0ca63f63-acf5-4b2f-bb96-3be37cfd1b7d\",\n",
        "    modules=[\"cbc\"])"
      ],
      "metadata": {
        "colab": {
          "base_uri": "https://localhost:8080/"
        },
        "id": "_R5NsOJEjrXM",
        "outputId": "77f3f2c5-bffa-468a-e920-3520ad78cb11"
      },
      "id": "_R5NsOJEjrXM",
      "execution_count": 44,
      "outputs": [
        {
          "output_type": "stream",
          "name": "stdout",
          "text": [
            "Licensed to AMPL Community Edition License for <gionata.massi@gmail.com>.\n"
          ]
        }
      ]
    },
    {
      "cell_type": "code",
      "execution_count": 44,
      "id": "40a73174-125c-4ffd-83ae-b8629b3fe454",
      "metadata": {
        "id": "40a73174-125c-4ffd-83ae-b8629b3fe454"
      },
      "outputs": [],
      "source": []
    },
    {
      "cell_type": "code",
      "source": [
        "%%writefile assignment.mod\n",
        "set Resources;\n",
        "set Tasks;\n",
        "set Links := Resources cross Tasks;\n",
        "\n",
        "param cost {(i, j) in Links} >= 0;\n",
        "var x {(i, j) in Links} >= 0; # binary;\n",
        "\n",
        "check: card(Resources) = card(Tasks);\n",
        "\n",
        "minimize total_cost:\n",
        "  sum{(i, j) in Links} cost[i, j] * x[i, j];\n",
        "\n",
        "s.t. one_task_per_resource {i in Resources}:\n",
        "  sum{(i, j) in Links} x[i, j] = 1;\n",
        "\n",
        "s.t. one_resourse_per_task {j in Tasks}:\n",
        "  sum{(i, j) in Links} x[i, j] = 1;\n"
      ],
      "metadata": {
        "colab": {
          "base_uri": "https://localhost:8080/"
        },
        "id": "XVSG7PnNkMs7",
        "outputId": "82c90e4c-f839-44ca-c1ed-ed8ec38120b3"
      },
      "id": "XVSG7PnNkMs7",
      "execution_count": 45,
      "outputs": [
        {
          "output_type": "stream",
          "name": "stdout",
          "text": [
            "Overwriting assignment.mod\n"
          ]
        }
      ]
    },
    {
      "cell_type": "code",
      "source": [
        "%%writefile assignment.dat\n",
        "set Resources := R1 R2 R3 R4;\n",
        "set Tasks := T1 T2 T3 T4;\n",
        "\n",
        "param cost :\n",
        "       T1 T2 T3 T4 =\n",
        "   R1  14  5  8  7\n",
        "   R2   2 12  6  5\n",
        "   R3   7  8  3  9\n",
        "   R4   2  4  6 10;"
      ],
      "metadata": {
        "colab": {
          "base_uri": "https://localhost:8080/"
        },
        "id": "xM2jrUx8o-VF",
        "outputId": "155616bf-b5ad-4182-80cd-38bdca5f3cfd"
      },
      "id": "xM2jrUx8o-VF",
      "execution_count": 46,
      "outputs": [
        {
          "output_type": "stream",
          "name": "stdout",
          "text": [
            "Overwriting assignment.dat\n"
          ]
        }
      ]
    },
    {
      "cell_type": "code",
      "source": [
        "ampl.read('assignment.mod')\n",
        "ampl.eval('show;')"
      ],
      "metadata": {
        "colab": {
          "base_uri": "https://localhost:8080/"
        },
        "id": "r1IizLc0oipT",
        "outputId": "90685a84-1cb8-44c8-ed2b-b1e95754a61f"
      },
      "id": "r1IizLc0oipT",
      "execution_count": 47,
      "outputs": [
        {
          "output_type": "stream",
          "name": "stdout",
          "text": [
            "\n",
            "parameter:   cost\n",
            "\n",
            "sets:   Links   Resources   Tasks\n",
            "\n",
            "variable:   x\n",
            "\n",
            "constraints:   one_resourse_per_task   one_task_per_resource\n",
            "\n",
            "objective:   total_cost\n",
            "\n",
            "checks: one, called check 1.\n"
          ]
        }
      ]
    },
    {
      "cell_type": "code",
      "source": [
        "ampl.readData('assignment.dat')\n",
        "ampl.eval('expand;')"
      ],
      "metadata": {
        "colab": {
          "base_uri": "https://localhost:8080/"
        },
        "id": "H9Oe7FlcqZlc",
        "outputId": "6d683bc7-21fa-48b8-8cfa-ea481b42fd06"
      },
      "id": "H9Oe7FlcqZlc",
      "execution_count": 48,
      "outputs": [
        {
          "output_type": "stream",
          "name": "stdout",
          "text": [
            "minimize total_cost:\n",
            "\t14*x['R1','T1'] + 5*x['R1','T2'] + 8*x['R1','T3'] + 7*x['R1','T4'] + \n",
            "\t2*x['R2','T1'] + 12*x['R2','T2'] + 6*x['R2','T3'] + 5*x['R2','T4'] + \n",
            "\t7*x['R3','T1'] + 8*x['R3','T2'] + 3*x['R3','T3'] + 9*x['R3','T4'] + \n",
            "\t2*x['R4','T1'] + 4*x['R4','T2'] + 6*x['R4','T3'] + 10*x['R4','T4'];\n",
            "\n",
            "subject to one_task_per_resource['R1']:\n",
            "\tx['R1','T1'] + x['R1','T2'] + x['R1','T3'] + x['R1','T4'] = 1;\n",
            "\n",
            "subject to one_task_per_resource['R2']:\n",
            "\tx['R2','T1'] + x['R2','T2'] + x['R2','T3'] + x['R2','T4'] = 1;\n",
            "\n",
            "subject to one_task_per_resource['R3']:\n",
            "\tx['R3','T1'] + x['R3','T2'] + x['R3','T3'] + x['R3','T4'] = 1;\n",
            "\n",
            "subject to one_task_per_resource['R4']:\n",
            "\tx['R4','T1'] + x['R4','T2'] + x['R4','T3'] + x['R4','T4'] = 1;\n",
            "\n",
            "subject to one_resourse_per_task['T1']:\n",
            "\tx['R1','T1'] + x['R2','T1'] + x['R3','T1'] + x['R4','T1'] = 1;\n",
            "\n",
            "subject to one_resourse_per_task['T2']:\n",
            "\tx['R1','T2'] + x['R2','T2'] + x['R3','T2'] + x['R4','T2'] = 1;\n",
            "\n",
            "subject to one_resourse_per_task['T3']:\n",
            "\tx['R1','T3'] + x['R2','T3'] + x['R3','T3'] + x['R4','T3'] = 1;\n",
            "\n",
            "subject to one_resourse_per_task['T4']:\n",
            "\tx['R1','T4'] + x['R2','T4'] + x['R3','T4'] + x['R4','T4'] = 1;\n",
            "\n"
          ]
        }
      ]
    },
    {
      "cell_type": "code",
      "source": [
        "ampl.eval(\"expand one_resourse_per_task['T1'];\")"
      ],
      "metadata": {
        "colab": {
          "base_uri": "https://localhost:8080/"
        },
        "id": "HpQXeWYRqsQ1",
        "outputId": "fdfd07fd-7135-4419-8224-512a8c83036a"
      },
      "id": "HpQXeWYRqsQ1",
      "execution_count": 49,
      "outputs": [
        {
          "output_type": "stream",
          "name": "stdout",
          "text": [
            "subject to one_resourse_per_task['T1']:\n",
            "\tx['R1','T1'] + x['R2','T1'] + x['R3','T1'] + x['R4','T1'] = 1;\n",
            "\n"
          ]
        }
      ]
    },
    {
      "cell_type": "code",
      "source": [
        "ampl.eval(\"option solver cbc;\")\n",
        "ampl.solve()\n",
        "ampl.display('total_cost')\n",
        "ampl.display('{(i, j) in Links : x[i, j] = 1} x[i, j]')"
      ],
      "metadata": {
        "colab": {
          "base_uri": "https://localhost:8080/"
        },
        "id": "Hp0-2z1erQte",
        "outputId": "db1b1e81-81a5-4a2e-ade1-ba33a50eca8a"
      },
      "id": "Hp0-2z1erQte",
      "execution_count": 50,
      "outputs": [
        {
          "output_type": "stream",
          "name": "stdout",
          "text": [
            "cbc 2.10.12: \b\b\b\b\b\b\b\b\b\b\b\b\bcbc 2.10.12: optimal solution; objective 15\n",
            "0 simplex iterations\n",
            "total_cost = 15\n",
            "\n",
            "x[i,j] :=\n",
            "R1 T2   1\n",
            "R2 T4   1\n",
            "R3 T3   1\n",
            "R4 T1   1\n",
            ";\n",
            "\n"
          ]
        }
      ]
    },
    {
      "cell_type": "markdown",
      "id": "131da757-3571-439a-a73c-1b3e8526704e",
      "metadata": {
        "id": "131da757-3571-439a-a73c-1b3e8526704e"
      },
      "source": [
        "## Exercise 1\n",
        "\n",
        "Solve the problem for\n",
        "\n",
        "Number of workers and tasks: $m \\gets 4$\n",
        "  \n",
        "Assignment costs:\n",
        "  \n",
        "  | Worker | Task 1 | Task 2 | Task 3 | Task 4 |\n",
        "  |--------|--------|--------|--------|--------|\n",
        "  |    1   |    22  |   18   |   30   |   18   |\n",
        "  |    2   |    18  |   --   |   27   |   22   |\n",
        "  |    3   |    16  |   22   |   --   |   14   |\n",
        "  |    4   |    21  |   --   |   25   |   28   |\n",
        "\n",
        "\n",
        "- How to tackle the unfeasible assignment (written as --)?\n",
        "- Write down the mathematical model for the instance in the previous slides.\n",
        "- Generate the feasible solutions and determine the optimal solution\n",
        "- How much feasible solutions?"
      ]
    },
    {
      "cell_type": "markdown",
      "source": [
        "## AMPL solution"
      ],
      "metadata": {
        "id": "8ionaJzRTQWN"
      },
      "id": "8ionaJzRTQWN"
    },
    {
      "cell_type": "code",
      "source": [
        "%%writefile assignment_es1.mod\n",
        "set Resources;\n",
        "set Tasks;\n",
        "set Links within Resources cross Tasks;\n",
        "\n",
        "param cost {(i, j) in Links} >= 0;\n",
        "var x {(i, j) in Links} >= 0; # binary;\n",
        "\n",
        "check: card(Resources) = card(Tasks);\n",
        "\n",
        "minimize total_cost:\n",
        "  sum{(i, j) in Links} cost[i, j] * x[i, j];\n",
        "\n",
        "s.t. one_task_per_resource {i in Resources}:\n",
        "  sum{(i, j) in Links} x[i, j] = 1;\n",
        "\n",
        "s.t. one_resourse_per_task {j in Tasks}:\n",
        "  sum{(i, j) in Links} x[i, j] = 1;\n"
      ],
      "metadata": {
        "colab": {
          "base_uri": "https://localhost:8080/"
        },
        "id": "sD4zPSm1IjOw",
        "outputId": "8adc2619-870e-4b37-b508-2d6aa8c558b7"
      },
      "id": "sD4zPSm1IjOw",
      "execution_count": 51,
      "outputs": [
        {
          "output_type": "stream",
          "name": "stdout",
          "text": [
            "Overwriting assignment_es1.mod\n"
          ]
        }
      ]
    },
    {
      "cell_type": "code",
      "source": [
        "ampl.reset()\n",
        "ampl.read('assignment_es1.mod')\n",
        "ampl.eval('show;')\n",
        "ampl.set['Resources'] = ['R1', 'R2', 'R3', 'R4']\n",
        "ampl.set['Tasks'] = ['T1', 'T2', 'T3', 'T4']\n",
        "ampl.set['Links'] = [('R1', 'T1'), ('R1', 'T2'), ('R1', 'T3'), ('R1', 'T4'),\n",
        "                     ('R2', 'T1'),               ('R2', 'T3'),  ('R2', 'T4'),\n",
        "                     ('R3', 'T1'),  ('R3', 'T2'),               ('R3', 'T4'),\n",
        "                     ('R4', 'T1'),               ('R4', 'T3'),  ('R4', 'T4')]\n",
        "ampl.param['cost'] = [22, 18, 30, 18,\n",
        "                      18,           27, 22,\n",
        "                      16,  22,           14,\n",
        "                      21,           25, 28]\n",
        "ampl.eval('expand;')\n",
        "ampl.solve(solver=\"cbc\")\n",
        "ampl.display('total_cost')\n",
        "ampl.display('{(i, j) in Links : x[i, j] > 0} x[i, j]')\n"
      ],
      "metadata": {
        "colab": {
          "base_uri": "https://localhost:8080/"
        },
        "id": "HVg7-orrQhS7",
        "outputId": "615413ba-c03e-4adc-e84d-21b33bb2dfbf"
      },
      "id": "HVg7-orrQhS7",
      "execution_count": 52,
      "outputs": [
        {
          "output_type": "stream",
          "name": "stdout",
          "text": [
            "\n",
            "parameter:   cost\n",
            "\n",
            "sets:   Links   Resources   Tasks\n",
            "\n",
            "variable:   x\n",
            "\n",
            "constraints:   one_resourse_per_task   one_task_per_resource\n",
            "\n",
            "objective:   total_cost\n",
            "\n",
            "checks: one, called check 1.\n",
            "minimize total_cost:\n",
            "\t22*x['R1','T1'] + 18*x['R1','T2'] + 30*x['R1','T3'] + 18*x['R1','T4']\n",
            "\t + 18*x['R2','T1'] + 27*x['R2','T3'] + 22*x['R2','T4'] + \n",
            "\t16*x['R3','T1'] + 22*x['R3','T2'] + 14*x['R3','T4'] + 21*x['R4','T1']\n",
            "\t + 25*x['R4','T3'] + 28*x['R4','T4'];\n",
            "\n",
            "subject to one_task_per_resource['R1']:\n",
            "\tx['R1','T1'] + x['R1','T2'] + x['R1','T3'] + x['R1','T4'] = 1;\n",
            "\n",
            "subject to one_task_per_resource['R2']:\n",
            "\tx['R2','T1'] + x['R2','T3'] + x['R2','T4'] = 1;\n",
            "\n",
            "subject to one_task_per_resource['R3']:\n",
            "\tx['R3','T1'] + x['R3','T2'] + x['R3','T4'] = 1;\n",
            "\n",
            "subject to one_task_per_resource['R4']:\n",
            "\tx['R4','T1'] + x['R4','T3'] + x['R4','T4'] = 1;\n",
            "\n",
            "subject to one_resourse_per_task['T1']:\n",
            "\tx['R1','T1'] + x['R2','T1'] + x['R3','T1'] + x['R4','T1'] = 1;\n",
            "\n",
            "subject to one_resourse_per_task['T2']:\n",
            "\tx['R1','T2'] + x['R3','T2'] = 1;\n",
            "\n",
            "subject to one_resourse_per_task['T3']:\n",
            "\tx['R1','T3'] + x['R2','T3'] + x['R4','T3'] = 1;\n",
            "\n",
            "subject to one_resourse_per_task['T4']:\n",
            "\tx['R1','T4'] + x['R2','T4'] + x['R3','T4'] + x['R4','T4'] = 1;\n",
            "\n",
            "cbc 2.10.12: \b\b\b\b\b\b\b\b\b\b\b\b\bcbc 2.10.12: optimal solution; objective 75\n",
            "0 simplex iterations\n",
            "total_cost = 75\n",
            "\n",
            "x[i,j] :=\n",
            "R1 T2   1\n",
            "R2 T1   1\n",
            "R3 T4   1\n",
            "R4 T3   1\n",
            ";\n",
            "\n"
          ]
        }
      ]
    },
    {
      "cell_type": "markdown",
      "id": "0aeec68f-5afe-45b1-bc20-14e6848b2b09",
      "metadata": {
        "id": "0aeec68f-5afe-45b1-bc20-14e6848b2b09"
      },
      "source": [
        "## Exercise 2\n",
        "\n",
        "Number of workers and tasks: $m \\gets 10$\n",
        "  \n",
        "Assignment costs:\n",
        "\n",
        "| Worker | Task 1 | Task 2 | Task 3 | Task 4 | Task 5 | Task 6 | Task 7 | Task 8 | Task 9 | Task 10 |\n",
        "|---|---|---|---|---|---|---|---|---|---|---|\n",
        "| 1 | 45 | 12 | 87 | 23 | 66 | 91 | 5 | 38 | 72 | 19 |\n",
        "| 2 | 8 | 55 | 31 | 98 | 15 | 42 | 77 | 60 | 29 | 84 |\n",
        "| 3 | 93 | 27 | 64 | 10 | 81 | 36 | 58 | 7 | 49 | 22 |\n",
        "| 4 | 17 | 79 | 50 | 48 | 9 | 73 | 25 | 95 | 13 | 68 |\n",
        "| 5 | 62 | 3 | 90 | 59 | 41 | 18 | 88 | 33 | 76 | 4 |\n",
        "| 6 | 21 | 86 | 14 | 75 | 30 | 97 | 53 | 6 | 82 | 39 |\n",
        "| 7 | 70 | 44 | 28 | 83 | 65 | 2 | 99 | 47 | 11 | 56 |\n",
        "| 8 | 35 | 92 | 67 | 20 | 89 | 51 | 16 | 78 | 43 | 26 |\n",
        "| 9 | 57 | 1 | 40 | 94 | 24 | 71 | 63 | 80 | 37 | 52 |\n",
        "| 10 | 46 | 69 | 34 | 12 | 54 | 96 | 29 | 85 | 61 | 74 |\n",
        "\n",
        "- Generate the feasible solutions and determine the/an optimal solution.\n",
        "- How much feasible solutions?"
      ]
    },
    {
      "cell_type": "markdown",
      "source": [
        "## AMPL solution"
      ],
      "metadata": {
        "id": "_66kZw2wSb2D"
      },
      "id": "_66kZw2wSb2D"
    },
    {
      "cell_type": "code",
      "source": [
        "ampl.reset()\n",
        "ampl.read('assignment.mod')\n",
        "ampl.set['Resources'] = range(1, 11)\n",
        "ampl.set['Tasks'] = range(1, 11)\n",
        "ampl.param['cost'] = [\n",
        " 45, 12, 87, 23, 66, 91, 5, 38, 72, 19,\n",
        " 8, 55, 31, 98, 15, 42, 77, 60, 29, 84,\n",
        " 93, 27, 64, 10, 81, 36, 58, 7, 49, 22,\n",
        " 17, 79, 50, 48, 9, 73, 25, 95, 13, 68,\n",
        " 62, 3, 90, 59, 41, 18, 88, 33, 76, 4,\n",
        " 21, 86, 14, 75, 30, 97, 53, 6, 82, 39,\n",
        " 70, 44, 28, 83, 65, 2, 99, 47, 11, 56,\n",
        " 35, 92, 67, 20, 89, 51, 16, 78, 43, 26,\n",
        " 57, 1, 40, 94, 24, 71, 63, 80, 37, 52,\n",
        " 46, 69, 34, 12, 54, 96, 29, 85, 61, 74\n",
        "]\n",
        "ampl.eval('expand;')\n",
        "ampl.solve()\n",
        "ampl.display('total_cost')\n",
        "ampl.display('{(i, j) in Links : x[i, j] = 1} x[i, j]')\n"
      ],
      "metadata": {
        "colab": {
          "base_uri": "https://localhost:8080/"
        },
        "id": "q4pRHB94DO5P",
        "outputId": "e1335f04-ea37-4bc5-d570-91d37fc7c0f4"
      },
      "id": "q4pRHB94DO5P",
      "execution_count": 53,
      "outputs": [
        {
          "output_type": "stream",
          "name": "stdout",
          "text": [
            "minimize total_cost:\n",
            "\t45*x[1,1] + 12*x[1,2] + 87*x[1,3] + 23*x[1,4] + 66*x[1,5] + 91*x[1,6]\n",
            "\t + 5*x[1,7] + 38*x[1,8] + 72*x[1,9] + 19*x[1,10] + 8*x[2,1] + 55*x[2,2]\n",
            "\t + 31*x[2,3] + 98*x[2,4] + 15*x[2,5] + 42*x[2,6] + 77*x[2,7] + \n",
            "\t60*x[2,8] + 29*x[2,9] + 84*x[2,10] + 93*x[3,1] + 27*x[3,2] + 64*x[3,3]\n",
            "\t + 10*x[3,4] + 81*x[3,5] + 36*x[3,6] + 58*x[3,7] + 7*x[3,8] + 49*x[3,9]\n",
            "\t + 22*x[3,10] + 17*x[4,1] + 79*x[4,2] + 50*x[4,3] + 48*x[4,4] + \n",
            "\t9*x[4,5] + 73*x[4,6] + 25*x[4,7] + 95*x[4,8] + 13*x[4,9] + 68*x[4,10]\n",
            "\t + 62*x[5,1] + 3*x[5,2] + 90*x[5,3] + 59*x[5,4] + 41*x[5,5] + 18*x[5,6]\n",
            "\t + 88*x[5,7] + 33*x[5,8] + 76*x[5,9] + 4*x[5,10] + 21*x[6,1] + \n",
            "\t86*x[6,2] + 14*x[6,3] + 75*x[6,4] + 30*x[6,5] + 97*x[6,6] + 53*x[6,7]\n",
            "\t + 6*x[6,8] + 82*x[6,9] + 39*x[6,10] + 70*x[7,1] + 44*x[7,2] + \n",
            "\t28*x[7,3] + 83*x[7,4] + 65*x[7,5] + 2*x[7,6] + 99*x[7,7] + 47*x[7,8] + \n",
            "\t11*x[7,9] + 56*x[7,10] + 35*x[8,1] + 92*x[8,2] + 67*x[8,3] + 20*x[8,4]\n",
            "\t + 89*x[8,5] + 51*x[8,6] + 16*x[8,7] + 78*x[8,8] + 43*x[8,9] + \n",
            "\t26*x[8,10] + 57*x[9,1] + x[9,2] + 40*x[9,3] + 94*x[9,4] + 24*x[9,5] + \n",
            "\t71*x[9,6] + 63*x[9,7] + 80*x[9,8] + 37*x[9,9] + 52*x[9,10] + 46*x[10,1]\n",
            "\t + 69*x[10,2] + 34*x[10,3] + 12*x[10,4] + 54*x[10,5] + 96*x[10,6] + \n",
            "\t29*x[10,7] + 85*x[10,8] + 61*x[10,9] + 74*x[10,10];\n",
            "\n",
            "subject to one_task_per_resource[1]:\n",
            "\tx[1,1] + x[1,2] + x[1,3] + x[1,4] + x[1,5] + x[1,6] + x[1,7] + x[1,8]\n",
            "\t + x[1,9] + x[1,10] = 1;\n",
            "\n",
            "subject to one_task_per_resource[2]:\n",
            "\tx[2,1] + x[2,2] + x[2,3] + x[2,4] + x[2,5] + x[2,6] + x[2,7] + x[2,8]\n",
            "\t + x[2,9] + x[2,10] = 1;\n",
            "\n",
            "subject to one_task_per_resource[3]:\n",
            "\tx[3,1] + x[3,2] + x[3,3] + x[3,4] + x[3,5] + x[3,6] + x[3,7] + x[3,8]\n",
            "\t + x[3,9] + x[3,10] = 1;\n",
            "\n",
            "subject to one_task_per_resource[4]:\n",
            "\tx[4,1] + x[4,2] + x[4,3] + x[4,4] + x[4,5] + x[4,6] + x[4,7] + x[4,8]\n",
            "\t + x[4,9] + x[4,10] = 1;\n",
            "\n",
            "subject to one_task_per_resource[5]:\n",
            "\tx[5,1] + x[5,2] + x[5,3] + x[5,4] + x[5,5] + x[5,6] + x[5,7] + x[5,8]\n",
            "\t + x[5,9] + x[5,10] = 1;\n",
            "\n",
            "subject to one_task_per_resource[6]:\n",
            "\tx[6,1] + x[6,2] + x[6,3] + x[6,4] + x[6,5] + x[6,6] + x[6,7] + x[6,8]\n",
            "\t + x[6,9] + x[6,10] = 1;\n",
            "\n",
            "subject to one_task_per_resource[7]:\n",
            "\tx[7,1] + x[7,2] + x[7,3] + x[7,4] + x[7,5] + x[7,6] + x[7,7] + x[7,8]\n",
            "\t + x[7,9] + x[7,10] = 1;\n",
            "\n",
            "subject to one_task_per_resource[8]:\n",
            "\tx[8,1] + x[8,2] + x[8,3] + x[8,4] + x[8,5] + x[8,6] + x[8,7] + x[8,8]\n",
            "\t + x[8,9] + x[8,10] = 1;\n",
            "\n",
            "subject to one_task_per_resource[9]:\n",
            "\tx[9,1] + x[9,2] + x[9,3] + x[9,4] + x[9,5] + x[9,6] + x[9,7] + x[9,8]\n",
            "\t + x[9,9] + x[9,10] = 1;\n",
            "\n",
            "subject to one_task_per_resource[10]:\n",
            "\tx[10,1] + x[10,2] + x[10,3] + x[10,4] + x[10,5] + x[10,6] + x[10,7] + \n",
            "\tx[10,8] + x[10,9] + x[10,10] = 1;\n",
            "\n",
            "subject to one_resourse_per_task[1]:\n",
            "\tx[1,1] + x[2,1] + x[3,1] + x[4,1] + x[5,1] + x[6,1] + x[7,1] + x[8,1]\n",
            "\t + x[9,1] + x[10,1] = 1;\n",
            "\n",
            "subject to one_resourse_per_task[2]:\n",
            "\tx[1,2] + x[2,2] + x[3,2] + x[4,2] + x[5,2] + x[6,2] + x[7,2] + x[8,2]\n",
            "\t + x[9,2] + x[10,2] = 1;\n",
            "\n",
            "subject to one_resourse_per_task[3]:\n",
            "\tx[1,3] + x[2,3] + x[3,3] + x[4,3] + x[5,3] + x[6,3] + x[7,3] + x[8,3]\n",
            "\t + x[9,3] + x[10,3] = 1;\n",
            "\n",
            "subject to one_resourse_per_task[4]:\n",
            "\tx[1,4] + x[2,4] + x[3,4] + x[4,4] + x[5,4] + x[6,4] + x[7,4] + x[8,4]\n",
            "\t + x[9,4] + x[10,4] = 1;\n",
            "\n",
            "subject to one_resourse_per_task[5]:\n",
            "\tx[1,5] + x[2,5] + x[3,5] + x[4,5] + x[5,5] + x[6,5] + x[7,5] + x[8,5]\n",
            "\t + x[9,5] + x[10,5] = 1;\n",
            "\n",
            "subject to one_resourse_per_task[6]:\n",
            "\tx[1,6] + x[2,6] + x[3,6] + x[4,6] + x[5,6] + x[6,6] + x[7,6] + x[8,6]\n",
            "\t + x[9,6] + x[10,6] = 1;\n",
            "\n",
            "subject to one_resourse_per_task[7]:\n",
            "\tx[1,7] + x[2,7] + x[3,7] + x[4,7] + x[5,7] + x[6,7] + x[7,7] + x[8,7]\n",
            "\t + x[9,7] + x[10,7] = 1;\n",
            "\n",
            "subject to one_resourse_per_task[8]:\n",
            "\tx[1,8] + x[2,8] + x[3,8] + x[4,8] + x[5,8] + x[6,8] + x[7,8] + x[8,8]\n",
            "\t + x[9,8] + x[10,8] = 1;\n",
            "\n",
            "subject to one_resourse_per_task[9]:\n",
            "\tx[1,9] + x[2,9] + x[3,9] + x[4,9] + x[5,9] + x[6,9] + x[7,9] + x[8,9]\n",
            "\t + x[9,9] + x[10,9] = 1;\n",
            "\n",
            "subject to one_resourse_per_task[10]:\n",
            "\tx[1,10] + x[2,10] + x[3,10] + x[4,10] + x[5,10] + x[6,10] + x[7,10] + \n",
            "\tx[8,10] + x[9,10] + x[10,10] = 1;\n",
            "\n",
            "cbc 2.10.12: \b\b\b\b\b\b\b\b\b\b\b\b\bcbc 2.10.12: optimal solution; objective 105\n",
            "0 simplex iterations\n",
            "total_cost = 105\n",
            "\n",
            "x[i,j] :=\n",
            "1  7    1\n",
            "2  1    1\n",
            "3  8    1\n",
            "4  5    1\n",
            "5  10   1\n",
            "6  3    1\n",
            "7  6    1\n",
            "8  9    1\n",
            "9  2    1\n",
            "10 4    1\n",
            ";\n",
            "\n"
          ]
        }
      ]
    }
  ],
  "metadata": {
    "kernelspec": {
      "display_name": "Python 3 (ipykernel)",
      "language": "python",
      "name": "python3"
    },
    "language_info": {
      "codemirror_mode": {
        "name": "ipython",
        "version": 3
      },
      "file_extension": ".py",
      "mimetype": "text/x-python",
      "name": "python",
      "nbconvert_exporter": "python",
      "pygments_lexer": "ipython3",
      "version": "3.13.2"
    },
    "colab": {
      "provenance": [],
      "toc_visible": true
    }
  },
  "nbformat": 4,
  "nbformat_minor": 5
}