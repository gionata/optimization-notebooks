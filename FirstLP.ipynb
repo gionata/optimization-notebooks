{
  "nbformat": 4,
  "nbformat_minor": 0,
  "metadata": {
    "colab": {
      "provenance": [],
      "authorship_tag": "ABX9TyNNHkilfkZB+6GCOU/r71ZY",
      "include_colab_link": true
    },
    "kernelspec": {
      "name": "python3",
      "display_name": "Python 3"
    },
    "language_info": {
      "name": "python"
    }
  },
  "cells": [
    {
      "cell_type": "markdown",
      "metadata": {
        "id": "view-in-github",
        "colab_type": "text"
      },
      "source": [
        "<a href=\"https://colab.research.google.com/github/gionata/optimization-notebooks/blob/main/FirstLP.ipynb\" target=\"_parent\"><img src=\"https://colab.research.google.com/assets/colab-badge.svg\" alt=\"Open In Colab\"/></a>"
      ]
    },
    {
      "cell_type": "code",
      "execution_count": null,
      "metadata": {
        "id": "GiTe0ZM7XF3v",
        "colab": {
          "base_uri": "https://localhost:8080/"
        },
        "outputId": "4e7beada-b113-421f-92af-063879a37c97"
      },
      "outputs": [
        {
          "output_type": "stream",
          "name": "stdout",
          "text": [
            "Collecting amplpy\n",
            "  Downloading amplpy-0.14.0-cp311-cp311-manylinux_2_17_x86_64.manylinux2014_x86_64.whl.metadata (4.0 kB)\n",
            "Collecting ampltools>=0.7.5 (from amplpy)\n",
            "  Downloading ampltools-0.7.5-py3-none-any.whl.metadata (1.2 kB)\n",
            "Requirement already satisfied: requests in /usr/local/lib/python3.11/dist-packages (from ampltools>=0.7.5->amplpy) (2.32.3)\n",
            "Requirement already satisfied: charset-normalizer<4,>=2 in /usr/local/lib/python3.11/dist-packages (from requests->ampltools>=0.7.5->amplpy) (3.4.1)\n",
            "Requirement already satisfied: idna<4,>=2.5 in /usr/local/lib/python3.11/dist-packages (from requests->ampltools>=0.7.5->amplpy) (3.10)\n",
            "Requirement already satisfied: urllib3<3,>=1.21.1 in /usr/local/lib/python3.11/dist-packages (from requests->ampltools>=0.7.5->amplpy) (2.3.0)\n",
            "Requirement already satisfied: certifi>=2017.4.17 in /usr/local/lib/python3.11/dist-packages (from requests->ampltools>=0.7.5->amplpy) (2025.1.31)\n",
            "Downloading amplpy-0.14.0-cp311-cp311-manylinux_2_17_x86_64.manylinux2014_x86_64.whl (5.7 MB)\n",
            "\u001b[2K   \u001b[90m━━━━━━━━━━━━━━━━━━━━━━━━━━━━━━━━━━━━━━━━\u001b[0m \u001b[32m5.7/5.7 MB\u001b[0m \u001b[31m23.2 MB/s\u001b[0m eta \u001b[36m0:00:00\u001b[0m\n",
            "\u001b[?25hDownloading ampltools-0.7.5-py3-none-any.whl (18 kB)\n",
            "Installing collected packages: ampltools, amplpy\n",
            "Successfully installed amplpy-0.14.0 ampltools-0.7.5\n"
          ]
        }
      ],
      "source": [
        "!pip install amplpy"
      ]
    },
    {
      "cell_type": "code",
      "source": [
        "from amplpy import AMPL, ampl_notebook\n",
        "ampl = ampl_notebook(\n",
        "    modules=[\"scip\", \"cbc\", \"highs\"],\n",
        "    license_uuid=\"0ca63f63-acf5-4b2f-bb96-3be37cfd1b7d\"\n",
        ")"
      ],
      "metadata": {
        "colab": {
          "base_uri": "https://localhost:8080/"
        },
        "id": "-3jXICVoYixR",
        "outputId": "a95df12e-f8c7-4481-80fa-3310effc13d1"
      },
      "execution_count": null,
      "outputs": [
        {
          "output_type": "stream",
          "name": "stdout",
          "text": [
            "Licensed to AMPL Community Edition License for <gionata.massi@gmail.com>.\n"
          ]
        }
      ]
    },
    {
      "cell_type": "code",
      "source": [
        "%%ampl_eval\n",
        "reset;\n",
        "# Variables\n",
        "var x1 >= 0;\n",
        "var x2 >= 0;\n",
        "\n",
        "# Objective function\n",
        "maximize Profit: 120*x1 + 40*x2;\n",
        "\n",
        "# Constraints\n",
        "s.t. raw_materials: 40*x1 + 20*x2 <= 2200;\n",
        "s.t. labor:          8*x1 +  2*x2 <=  320;\n",
        "s.t. market:           x1 +    x2 <=  100;\n",
        "\n",
        "show;\n",
        "expand;\n",
        "\n",
        "option solver scip;\n",
        "solve;\n",
        "\n",
        "display Profit;\n",
        "display x1, x2;\n",
        "\n",
        "option solver cbc;\n",
        "solve;\n",
        "\n",
        "display Profit;\n",
        "display x1, x2;\n",
        "\n",
        "option solver highs;\n",
        "solve;\n",
        "\n",
        "display Profit;\n",
        "display x1, x2;"
      ],
      "metadata": {
        "colab": {
          "base_uri": "https://localhost:8080/"
        },
        "id": "Ws7eyuMBYucE",
        "outputId": "e5ca98a4-0c8a-42e9-b91d-c7f03a1b434b"
      },
      "execution_count": null,
      "outputs": [
        {
          "output_type": "stream",
          "name": "stdout",
          "text": [
            "\n",
            "variables:   x1   x2\n",
            "\n",
            "constraints:   labor   market   raw_materials\n",
            "\n",
            "objective:   Profit\n",
            "maximize Profit:\n",
            "\t120*x1 + 40*x2;\n",
            "\n",
            "subject to raw_materials:\n",
            "\t40*x1 + 20*x2 <= 2200;\n",
            "\n",
            "subject to labor:\n",
            "\t8*x1 + 2*x2 <= 320;\n",
            "\n",
            "subject to market:\n",
            "\tx1 + x2 <= 100;\n",
            "\n",
            "SCIP 9.0.1: WARNING: No dual information available when presolving was performed.\n",
            "\b\b\b\b\b\b\b\b\b\b\b\bSCIP 9.0.1: optimal solution; objective 5400\n",
            "3 simplex iterations\n",
            "Profit = 5400\n",
            "\n",
            "x1 = 25\n",
            "x2 = 60\n",
            "\n",
            "cbc 2.10.12: \b\b\b\b\b\b\b\b\b\b\b\b\bcbc 2.10.12: optimal solution; objective 5400\n",
            "0 simplex iterations\n",
            "Profit = 5400\n",
            "\n",
            "x1 = 25\n",
            "x2 = 60\n",
            "\n",
            "HiGHS 1.9.0: \b\b\b\b\b\b\b\b\b\b\b\b\bHiGHS 1.9.0: optimal solution; objective 5400\n",
            "0 simplex iterations\n",
            "0 barrier iterations\n",
            "Profit = 5400\n",
            "\n",
            "x1 = 25\n",
            "x2 = 60\n",
            "\n"
          ]
        }
      ]
    },
    {
      "cell_type": "code",
      "source": [],
      "metadata": {
        "id": "6EXHx5BTcfgD"
      },
      "execution_count": null,
      "outputs": []
    },
    {
      "cell_type": "code",
      "source": [
        "ampl.solve(solver=\"scip\")"
      ],
      "metadata": {
        "colab": {
          "base_uri": "https://localhost:8080/"
        },
        "id": "_f8zUQknaixo",
        "outputId": "8088d8d6-4a1e-4e33-9447-a09a4e65e05e"
      },
      "execution_count": null,
      "outputs": [
        {
          "output_type": "stream",
          "name": "stdout",
          "text": [
            "No variables declared.\n"
          ]
        }
      ]
    }
  ]
}