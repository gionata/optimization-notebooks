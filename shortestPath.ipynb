{
  "nbformat": 4,
  "nbformat_minor": 0,
  "metadata": {
    "colab": {
      "provenance": [],
      "authorship_tag": "ABX9TyO6H5/ajzASkYexVwIjMb4l",
      "include_colab_link": true
    },
    "kernelspec": {
      "name": "python3",
      "display_name": "Python 3"
    },
    "language_info": {
      "name": "python"
    },
    "widgets": {
      "application/vnd.jupyter.widget-state+json": {
        "f83737124dcb4f25b97219d06823a398": {
          "model_module": "@jupyter-widgets/controls",
          "model_name": "VBoxModel",
          "model_module_version": "1.5.0",
          "state": {
            "_dom_classes": [],
            "_model_module": "@jupyter-widgets/controls",
            "_model_module_version": "1.5.0",
            "_model_name": "VBoxModel",
            "_view_count": null,
            "_view_module": "@jupyter-widgets/controls",
            "_view_module_version": "1.5.0",
            "_view_name": "VBoxView",
            "box_style": "",
            "children": [
              "IPY_MODEL_92a01734d87e4f848ee5eba829807967",
              "IPY_MODEL_3ac77bea0e694f5498bb742383c26422",
              "IPY_MODEL_7e0a20f0b3e34fe1a7ed216b021d1c2f",
              "IPY_MODEL_980c8b9bcbca4bca9203adc9a821c1a1"
            ],
            "layout": "IPY_MODEL_a3dc4f1db05f468bbab2977867ea6d8c"
          }
        },
        "92a01734d87e4f848ee5eba829807967": {
          "model_module": "@jupyter-widgets/output",
          "model_name": "OutputModel",
          "model_module_version": "1.0.0",
          "state": {
            "_dom_classes": [],
            "_model_module": "@jupyter-widgets/output",
            "_model_module_version": "1.0.0",
            "_model_name": "OutputModel",
            "_view_count": null,
            "_view_module": "@jupyter-widgets/output",
            "_view_module_version": "1.0.0",
            "_view_name": "OutputView",
            "layout": "IPY_MODEL_65cf8c12d507463f96fc0fdfad1da19a",
            "msg_id": "",
            "outputs": [
              {
                "output_type": "stream",
                "name": "stdout",
                "text": [
                  "AMPL License UUID (you can use free https://ampl.com/ce or https://ampl.com/courses licenses):\n"
                ]
              }
            ]
          }
        },
        "3ac77bea0e694f5498bb742383c26422": {
          "model_module": "@jupyter-widgets/controls",
          "model_name": "HBoxModel",
          "model_module_version": "1.5.0",
          "state": {
            "_dom_classes": [],
            "_model_module": "@jupyter-widgets/controls",
            "_model_module_version": "1.5.0",
            "_model_name": "HBoxModel",
            "_view_count": null,
            "_view_module": "@jupyter-widgets/controls",
            "_view_module_version": "1.5.0",
            "_view_name": "HBoxView",
            "box_style": "",
            "children": [
              "IPY_MODEL_8fc5587618f04ab4b7c1a9d51daee148"
            ],
            "layout": "IPY_MODEL_306886f50ba04f0692038c443595401e"
          }
        },
        "7e0a20f0b3e34fe1a7ed216b021d1c2f": {
          "model_module": "@jupyter-widgets/output",
          "model_name": "OutputModel",
          "model_module_version": "1.0.0",
          "state": {
            "_dom_classes": [],
            "_model_module": "@jupyter-widgets/output",
            "_model_module_version": "1.0.0",
            "_model_name": "OutputModel",
            "_view_count": null,
            "_view_module": "@jupyter-widgets/output",
            "_view_module_version": "1.0.0",
            "_view_name": "OutputView",
            "layout": "IPY_MODEL_5fa390734a634877b9804e9430f96b11",
            "msg_id": "",
            "outputs": []
          }
        },
        "980c8b9bcbca4bca9203adc9a821c1a1": {
          "model_module": "@jupyter-widgets/output",
          "model_name": "OutputModel",
          "model_module_version": "1.0.0",
          "state": {
            "_dom_classes": [],
            "_model_module": "@jupyter-widgets/output",
            "_model_module_version": "1.0.0",
            "_model_name": "OutputModel",
            "_view_count": null,
            "_view_module": "@jupyter-widgets/output",
            "_view_module_version": "1.0.0",
            "_view_name": "OutputView",
            "layout": "IPY_MODEL_b741b17b40c44473942722a081c6afb7",
            "msg_id": "",
            "outputs": [
              {
                "output_type": "stream",
                "name": "stdout",
                "text": [
                  "Licensed to AMPL Community Edition License for the AMPL Model Colaboratory (https://ampl.com/colab)."
                ]
              },
              {
                "output_type": "stream",
                "name": "stdout",
                "text": [
                  "\n"
                ]
              }
            ]
          }
        },
        "a3dc4f1db05f468bbab2977867ea6d8c": {
          "model_module": "@jupyter-widgets/base",
          "model_name": "LayoutModel",
          "model_module_version": "1.2.0",
          "state": {
            "_model_module": "@jupyter-widgets/base",
            "_model_module_version": "1.2.0",
            "_model_name": "LayoutModel",
            "_view_count": null,
            "_view_module": "@jupyter-widgets/base",
            "_view_module_version": "1.2.0",
            "_view_name": "LayoutView",
            "align_content": null,
            "align_items": null,
            "align_self": null,
            "border": null,
            "bottom": null,
            "display": null,
            "flex": null,
            "flex_flow": null,
            "grid_area": null,
            "grid_auto_columns": null,
            "grid_auto_flow": null,
            "grid_auto_rows": null,
            "grid_column": null,
            "grid_gap": null,
            "grid_row": null,
            "grid_template_areas": null,
            "grid_template_columns": null,
            "grid_template_rows": null,
            "height": null,
            "justify_content": null,
            "justify_items": null,
            "left": null,
            "margin": null,
            "max_height": null,
            "max_width": null,
            "min_height": null,
            "min_width": null,
            "object_fit": null,
            "object_position": null,
            "order": null,
            "overflow": null,
            "overflow_x": null,
            "overflow_y": null,
            "padding": null,
            "right": null,
            "top": null,
            "visibility": null,
            "width": null
          }
        },
        "8fc5587618f04ab4b7c1a9d51daee148": {
          "model_module": "@jupyter-widgets/controls",
          "model_name": "TextModel",
          "model_module_version": "1.5.0",
          "state": {
            "_dom_classes": [],
            "_model_module": "@jupyter-widgets/controls",
            "_model_module_version": "1.5.0",
            "_model_name": "TextModel",
            "_view_count": null,
            "_view_module": "@jupyter-widgets/controls",
            "_view_module_version": "1.5.0",
            "_view_name": "TextView",
            "continuous_update": true,
            "description": "License UUID:",
            "description_tooltip": null,
            "disabled": false,
            "layout": "IPY_MODEL_4f7a7b7d7aa64eff9728886b1ffdef1a",
            "placeholder": "​",
            "style": "IPY_MODEL_2e153f0edc8c4268b2ac93763c4c8e13",
            "value": ""
          }
        },
        "306886f50ba04f0692038c443595401e": {
          "model_module": "@jupyter-widgets/base",
          "model_name": "LayoutModel",
          "model_module_version": "1.2.0",
          "state": {
            "_model_module": "@jupyter-widgets/base",
            "_model_module_version": "1.2.0",
            "_model_name": "LayoutModel",
            "_view_count": null,
            "_view_module": "@jupyter-widgets/base",
            "_view_module_version": "1.2.0",
            "_view_name": "LayoutView",
            "align_content": null,
            "align_items": null,
            "align_self": null,
            "border": null,
            "bottom": null,
            "display": null,
            "flex": null,
            "flex_flow": null,
            "grid_area": null,
            "grid_auto_columns": null,
            "grid_auto_flow": null,
            "grid_auto_rows": null,
            "grid_column": null,
            "grid_gap": null,
            "grid_row": null,
            "grid_template_areas": null,
            "grid_template_columns": null,
            "grid_template_rows": null,
            "height": null,
            "justify_content": null,
            "justify_items": null,
            "left": null,
            "margin": null,
            "max_height": null,
            "max_width": null,
            "min_height": null,
            "min_width": null,
            "object_fit": null,
            "object_position": null,
            "order": null,
            "overflow": null,
            "overflow_x": null,
            "overflow_y": null,
            "padding": null,
            "right": null,
            "top": null,
            "visibility": null,
            "width": null
          }
        },
        "4f7a7b7d7aa64eff9728886b1ffdef1a": {
          "model_module": "@jupyter-widgets/base",
          "model_name": "LayoutModel",
          "model_module_version": "1.2.0",
          "state": {
            "_model_module": "@jupyter-widgets/base",
            "_model_module_version": "1.2.0",
            "_model_name": "LayoutModel",
            "_view_count": null,
            "_view_module": "@jupyter-widgets/base",
            "_view_module_version": "1.2.0",
            "_view_name": "LayoutView",
            "align_content": null,
            "align_items": null,
            "align_self": null,
            "border": null,
            "bottom": null,
            "display": null,
            "flex": null,
            "flex_flow": null,
            "grid_area": null,
            "grid_auto_columns": null,
            "grid_auto_flow": null,
            "grid_auto_rows": null,
            "grid_column": null,
            "grid_gap": null,
            "grid_row": null,
            "grid_template_areas": null,
            "grid_template_columns": null,
            "grid_template_rows": null,
            "height": null,
            "justify_content": null,
            "justify_items": null,
            "left": null,
            "margin": null,
            "max_height": null,
            "max_width": null,
            "min_height": null,
            "min_width": null,
            "object_fit": null,
            "object_position": null,
            "order": null,
            "overflow": null,
            "overflow_x": null,
            "overflow_y": null,
            "padding": null,
            "right": null,
            "top": null,
            "visibility": null,
            "width": null
          }
        },
        "2e153f0edc8c4268b2ac93763c4c8e13": {
          "model_module": "@jupyter-widgets/controls",
          "model_name": "DescriptionStyleModel",
          "model_module_version": "1.5.0",
          "state": {
            "_model_module": "@jupyter-widgets/controls",
            "_model_module_version": "1.5.0",
            "_model_name": "DescriptionStyleModel",
            "_view_count": null,
            "_view_module": "@jupyter-widgets/base",
            "_view_module_version": "1.2.0",
            "_view_name": "StyleView",
            "description_width": "initial"
          }
        },
        "65cf8c12d507463f96fc0fdfad1da19a": {
          "model_module": "@jupyter-widgets/base",
          "model_name": "LayoutModel",
          "model_module_version": "1.2.0",
          "state": {
            "_model_module": "@jupyter-widgets/base",
            "_model_module_version": "1.2.0",
            "_model_name": "LayoutModel",
            "_view_count": null,
            "_view_module": "@jupyter-widgets/base",
            "_view_module_version": "1.2.0",
            "_view_name": "LayoutView",
            "align_content": null,
            "align_items": null,
            "align_self": null,
            "border": null,
            "bottom": null,
            "display": null,
            "flex": null,
            "flex_flow": null,
            "grid_area": null,
            "grid_auto_columns": null,
            "grid_auto_flow": null,
            "grid_auto_rows": null,
            "grid_column": null,
            "grid_gap": null,
            "grid_row": null,
            "grid_template_areas": null,
            "grid_template_columns": null,
            "grid_template_rows": null,
            "height": null,
            "justify_content": null,
            "justify_items": null,
            "left": null,
            "margin": null,
            "max_height": null,
            "max_width": null,
            "min_height": null,
            "min_width": null,
            "object_fit": null,
            "object_position": null,
            "order": null,
            "overflow": null,
            "overflow_x": null,
            "overflow_y": null,
            "padding": null,
            "right": null,
            "top": null,
            "visibility": null,
            "width": null
          }
        },
        "5fa390734a634877b9804e9430f96b11": {
          "model_module": "@jupyter-widgets/base",
          "model_name": "LayoutModel",
          "model_module_version": "1.2.0",
          "state": {
            "_model_module": "@jupyter-widgets/base",
            "_model_module_version": "1.2.0",
            "_model_name": "LayoutModel",
            "_view_count": null,
            "_view_module": "@jupyter-widgets/base",
            "_view_module_version": "1.2.0",
            "_view_name": "LayoutView",
            "align_content": null,
            "align_items": null,
            "align_self": null,
            "border": null,
            "bottom": null,
            "display": null,
            "flex": null,
            "flex_flow": null,
            "grid_area": null,
            "grid_auto_columns": null,
            "grid_auto_flow": null,
            "grid_auto_rows": null,
            "grid_column": null,
            "grid_gap": null,
            "grid_row": null,
            "grid_template_areas": null,
            "grid_template_columns": null,
            "grid_template_rows": null,
            "height": null,
            "justify_content": null,
            "justify_items": null,
            "left": null,
            "margin": null,
            "max_height": null,
            "max_width": null,
            "min_height": null,
            "min_width": null,
            "object_fit": null,
            "object_position": null,
            "order": null,
            "overflow": null,
            "overflow_x": null,
            "overflow_y": null,
            "padding": null,
            "right": null,
            "top": null,
            "visibility": null,
            "width": null
          }
        },
        "b741b17b40c44473942722a081c6afb7": {
          "model_module": "@jupyter-widgets/base",
          "model_name": "LayoutModel",
          "model_module_version": "1.2.0",
          "state": {
            "_model_module": "@jupyter-widgets/base",
            "_model_module_version": "1.2.0",
            "_model_name": "LayoutModel",
            "_view_count": null,
            "_view_module": "@jupyter-widgets/base",
            "_view_module_version": "1.2.0",
            "_view_name": "LayoutView",
            "align_content": null,
            "align_items": null,
            "align_self": null,
            "border": null,
            "bottom": null,
            "display": null,
            "flex": null,
            "flex_flow": null,
            "grid_area": null,
            "grid_auto_columns": null,
            "grid_auto_flow": null,
            "grid_auto_rows": null,
            "grid_column": null,
            "grid_gap": null,
            "grid_row": null,
            "grid_template_areas": null,
            "grid_template_columns": null,
            "grid_template_rows": null,
            "height": null,
            "justify_content": null,
            "justify_items": null,
            "left": null,
            "margin": null,
            "max_height": null,
            "max_width": null,
            "min_height": null,
            "min_width": null,
            "object_fit": null,
            "object_position": null,
            "order": null,
            "overflow": null,
            "overflow_x": null,
            "overflow_y": null,
            "padding": null,
            "right": null,
            "top": null,
            "visibility": null,
            "width": null
          }
        }
      }
    }
  },
  "cells": [
    {
      "cell_type": "markdown",
      "metadata": {
        "id": "view-in-github",
        "colab_type": "text"
      },
      "source": [
        "<a href=\"https://colab.research.google.com/github/gionata/optimization-notebooks/blob/main/shortestPath.ipynb\" target=\"_parent\"><img src=\"https://colab.research.google.com/assets/colab-badge.svg\" alt=\"Open In Colab\"/></a>"
      ]
    },
    {
      "cell_type": "code",
      "execution_count": null,
      "metadata": {
        "colab": {
          "base_uri": "https://localhost:8080/"
        },
        "id": "fXubIFbwoZEM",
        "outputId": "5d7ddf18-2041-4bd9-ebe5-78a8e17fec87"
      },
      "outputs": [
        {
          "output_type": "stream",
          "name": "stdout",
          "text": [
            "\u001b[2K   \u001b[90m━━━━━━━━━━━━━━━━━━━━━━━━━━━━━━━━━━━━━━━━\u001b[0m \u001b[32m5.7/5.7 MB\u001b[0m \u001b[31m39.0 MB/s\u001b[0m eta \u001b[36m0:00:00\u001b[0m\n",
            "\u001b[?25h"
          ]
        }
      ],
      "source": [
        "%pip install -q amplpy"
      ]
    },
    {
      "cell_type": "code",
      "source": [
        "from amplpy import AMPL, ampl_notebook\n",
        "ampl = ampl_notebook(\n",
        "    modules=[\"snopt\"],\n",
        "    license_uuid=\"default\"\n",
        ")"
      ],
      "metadata": {
        "id": "1VWbSrs-oy1y",
        "colab": {
          "base_uri": "https://localhost:8080/",
          "height": 140,
          "referenced_widgets": [
            "f83737124dcb4f25b97219d06823a398",
            "92a01734d87e4f848ee5eba829807967",
            "3ac77bea0e694f5498bb742383c26422",
            "7e0a20f0b3e34fe1a7ed216b021d1c2f",
            "980c8b9bcbca4bca9203adc9a821c1a1",
            "a3dc4f1db05f468bbab2977867ea6d8c",
            "8fc5587618f04ab4b7c1a9d51daee148",
            "306886f50ba04f0692038c443595401e",
            "4f7a7b7d7aa64eff9728886b1ffdef1a",
            "2e153f0edc8c4268b2ac93763c4c8e13",
            "65cf8c12d507463f96fc0fdfad1da19a",
            "5fa390734a634877b9804e9430f96b11",
            "b741b17b40c44473942722a081c6afb7"
          ]
        },
        "outputId": "f6b5edd3-0f46-4c91-ee2b-26df9ba4be04"
      },
      "execution_count": 2,
      "outputs": [
        {
          "output_type": "display_data",
          "data": {
            "text/plain": [
              "VBox(children=(Output(), HBox(children=(Text(value='', description='License UUID:', style=DescriptionStyle(des…"
            ],
            "application/vnd.jupyter.widget-view+json": {
              "version_major": 2,
              "version_minor": 0,
              "model_id": "f83737124dcb4f25b97219d06823a398"
            }
          },
          "metadata": {}
        }
      ]
    },
    {
      "cell_type": "code",
      "source": [
        "%%writefile shortestPath.mod\n",
        "set INTERSECTIONS;\n",
        "param source symbolic in INTERSECTIONS;\n",
        "param destination symbolic in INTERSECTIONS;\n",
        "\n",
        "set ROADS within\n",
        "    (INTERSECTIONS diff { destination })\n",
        "      cross\n",
        "    (INTERSECTIONS diff { source });\n",
        "\n",
        "param cost { ROADS } >= 0;\n",
        "var Use { ROADS} >= 0, <= 1; # binary: {0, 1}\n",
        "\n",
        "minimize Total_Cost:\n",
        "  sum {(i, j) in ROADS} cost[i, j] * Use[i, j];\n",
        "\n",
        "subject to Start:\n",
        "  sum {(source, j) in ROADS} Use[source, j] = 1;\n",
        "\n",
        "subject to Balance {k in INTERSECTIONS diff { source, destination }}:\n",
        "  sum {(i, k) in ROADS} Use[i, k] =\n",
        "    sum {(k, j) in ROADS} Use[k, j];"
      ],
      "metadata": {
        "colab": {
          "base_uri": "https://localhost:8080/"
        },
        "id": "_61maWNXqSSf",
        "outputId": "4f23939e-dfe8-4b01-b81d-9cd30f9ab9ea"
      },
      "execution_count": 3,
      "outputs": [
        {
          "output_type": "stream",
          "name": "stdout",
          "text": [
            "Writing shortestPath.mod\n"
          ]
        }
      ]
    },
    {
      "cell_type": "code",
      "source": [
        "%%writefile shortestPath.dat\n",
        "set INTERSECTIONS := a b c d e f g ;\n",
        "param source := a ;\n",
        "param destination := g ;\n",
        "param: ROADS: cost :=\n",
        "    a b 50, a c 100\n",
        "    b d 40, b e 20\n",
        "    c d 60, c f 20\n",
        "    d e 50, d f 60\n",
        "    e g 70, f g 70 ;"
      ],
      "metadata": {
        "colab": {
          "base_uri": "https://localhost:8080/"
        },
        "id": "P1bW4Se9uxwq",
        "outputId": "014207dc-a985-4fbc-a584-20402ef2cfa4"
      },
      "execution_count": 4,
      "outputs": [
        {
          "output_type": "stream",
          "name": "stdout",
          "text": [
            "Writing shortestPath.dat\n"
          ]
        }
      ]
    },
    {
      "cell_type": "code",
      "source": [
        "ampl.reset()\n",
        "ampl.read('shortestPath.mod')\n",
        "ampl.readData('shortestPath.dat')\n",
        "ampl.eval('show;')\n",
        "ampl.eval('expand;')\n",
        "ampl.solve(solver=\"snopt\")\n",
        "ampl.eval('display {(i, j) in ROADS : Use[i, j] >= 0.9} Use[i,j];')"
      ],
      "metadata": {
        "colab": {
          "base_uri": "https://localhost:8080/"
        },
        "id": "FapB1U6OveTE",
        "outputId": "6c42199e-a542-4a87-fa9f-272990eeacc0"
      },
      "execution_count": 11,
      "outputs": [
        {
          "output_type": "stream",
          "name": "stdout",
          "text": [
            "\n",
            "parameters:   cost   destination   source\n",
            "\n",
            "sets:   INTERSECTIONS   ROADS\n",
            "\n",
            "variable:   Use\n",
            "\n",
            "constraints:   Balance   Start\n",
            "\n",
            "objective:   Total_Cost\n",
            "minimize Total_Cost:\n",
            "\t50*Use['a','b'] + 100*Use['a','c'] + 40*Use['b','d'] + 20*Use['b','e']\n",
            "\t + 60*Use['c','d'] + 20*Use['c','f'] + 50*Use['d','e'] + \n",
            "\t60*Use['d','f'] + 70*Use['e','g'] + 70*Use['f','g'];\n",
            "\n",
            "subject to Start:\n",
            "\tUse['a','b'] + Use['a','c'] = 1;\n",
            "\n",
            "subject to Balance['b']:\n",
            "\tUse['a','b'] - Use['b','d'] - Use['b','e'] = 0;\n",
            "\n",
            "subject to Balance['c']:\n",
            "\tUse['a','c'] - Use['c','d'] - Use['c','f'] = 0;\n",
            "\n",
            "subject to Balance['d']:\n",
            "\tUse['b','d'] + Use['c','d'] - Use['d','e'] - Use['d','f'] = 0;\n",
            "\n",
            "subject to Balance['e']:\n",
            "\tUse['b','e'] + Use['d','e'] - Use['e','g'] = 0;\n",
            "\n",
            "subject to Balance['f']:\n",
            "\tUse['c','f'] + Use['d','f'] - Use['f','g'] = 0;\n",
            "\n",
            "SNOPT 7.5-1.2 : Optimal solution found.\n",
            "1 iterations, objective 140\n",
            "Use[i,j] :=\n",
            "a b   1\n",
            "b e   1\n",
            "e g   1\n",
            ";\n",
            "\n"
          ]
        }
      ]
    },
    {
      "cell_type": "code",
      "source": [],
      "metadata": {
        "id": "4zZjJ7ckvyMb"
      },
      "execution_count": null,
      "outputs": []
    }
  ]
}